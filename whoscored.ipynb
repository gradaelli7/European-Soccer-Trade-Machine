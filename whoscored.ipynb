{
 "cells": [
  {
   "cell_type": "code",
   "execution_count": 1,
   "id": "612e661a-0e77-4324-ba5d-57dc1427ff9a",
   "metadata": {},
   "outputs": [
    {
     "name": "stderr",
     "output_type": "stream",
     "text": [
      "C:\\Users\\bgpru\\AppData\\Local\\Temp\\ipykernel_27800\\4080736814.py:1: DeprecationWarning: \n",
      "Pyarrow will become a required dependency of pandas in the next major release of pandas (pandas 3.0),\n",
      "(to allow more performant data types, such as the Arrow string type, and better interoperability with other libraries)\n",
      "but was not found to be installed on your system.\n",
      "If this would cause problems for you,\n",
      "please provide us feedback at https://github.com/pandas-dev/pandas/issues/54466\n",
      "        \n",
      "  import pandas as pd\n"
     ]
    }
   ],
   "source": [
    "import pandas as pd"
   ]
  },
  {
   "cell_type": "code",
   "execution_count": 2,
   "id": "2be556dd-0626-49a3-8ba4-8a548911b0ed",
   "metadata": {},
   "outputs": [],
   "source": [
    "league_files = ['data/whoscored/whoscored_bel_jupiler_pro_league.csv', 'data/whoscored/whoscored_eng_premier_league.csv', 'data/whoscored/whoscored_esp_la_liga.csv', 'data/whoscored/whoscored_fra_ligue_1.csv', 'data/whoscored/whoscored_ger_bundesliga.csv', 'data/whoscored/whoscored_ita_serie_a.csv', 'data/whoscored/whoscored_ned_eredivisie.csv', 'data/whoscored/whoscored_por_liga_portugal.csv', 'data/whoscored/whoscored_rus_premier_league.csv', 'data/whoscored/whoscored_sco_premiership.csv']"
   ]
  },
  {
   "cell_type": "code",
   "execution_count": 5,
   "id": "7a7453bb-a972-4ec8-b2a8-b564b8fe4bad",
   "metadata": {},
   "outputs": [],
   "source": [
    "# Create an empty list to store DataFrames\n",
    "dfs = []\n",
    "\n",
    "# Read each CSV file into a DataFrame and append to the list\n",
    "for file in league_files:\n",
    "    dfs.append(pd.read_csv(file))\n",
    "\n",
    "# Concatenate all DataFrames in the list along the rows\n",
    "merged_df = pd.concat(dfs, ignore_index=True)\n",
    "\n",
    "# Save merged DataFrame to a CSV file\n",
    "merged_df.to_csv('data/whoscored_merged.csv', index=False)"
   ]
  },
  {
   "cell_type": "code",
   "execution_count": 7,
   "id": "60306e00-2a2a-4760-acd1-4003886558ea",
   "metadata": {},
   "outputs": [],
   "source": [
    "# Read the first CSV file into a DataFrame\n",
    "df1 = pd.read_csv('data/whoscored_merged.csv')\n",
    "\n",
    "# Read the second CSV file into another DataFrame\n",
    "df2 = pd.read_csv('data/merged_data.csv')\n",
    "\n",
    "# Merge the two DataFrames on columns with different names\n",
    "merged_df2 = pd.merge(df1, df2, left_on='Player1', right_on='Player')\n",
    "\n",
    "# Print the merged DataFrame\n",
    "merged_df2.to_csv('data/merged_data_with_whoscored.csv', index=False)"
   ]
  },
  {
   "cell_type": "code",
   "execution_count": null,
   "id": "8818e299-5bd4-4c5e-8929-c219294feeba",
   "metadata": {},
   "outputs": [],
   "source": []
  }
 ],
 "metadata": {
  "kernelspec": {
   "display_name": "Python 3 (ipykernel)",
   "language": "python",
   "name": "python3"
  },
  "language_info": {
   "codemirror_mode": {
    "name": "ipython",
    "version": 3
   },
   "file_extension": ".py",
   "mimetype": "text/x-python",
   "name": "python",
   "nbconvert_exporter": "python",
   "pygments_lexer": "ipython3",
   "version": "3.12.3"
  }
 },
 "nbformat": 4,
 "nbformat_minor": 5
}
